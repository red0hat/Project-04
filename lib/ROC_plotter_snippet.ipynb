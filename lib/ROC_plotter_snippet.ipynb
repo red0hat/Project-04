{
 "cells": [
  {
   "cell_type": "code",
   "execution_count": null,
   "metadata": {
    "collapsed": true
   },
   "outputs": [],
   "source": [
    "import imp\n",
    "plotter = imp.load_source('./plotter', './roc_plotter.py')\n",
    "from plotter import ROCLogisticPlotter\n",
    "\n",
    "\n",
    "roc_plotter = ROCLogisticPlotter()\n",
    "roc_plotter.roc_interact()\n",
    "\n",
    "roc_plotter.preconstruct_data()"
   ]
  }
 ],
 "metadata": {
  "anaconda-cloud": {},
  "kernelspec": {
   "display_name": "Python [default]",
   "language": "python",
   "name": "python2"
  },
  "language_info": {
   "codemirror_mode": {
    "name": "ipython",
    "version": 2
   },
   "file_extension": ".py",
   "mimetype": "text/x-python",
   "name": "python",
   "nbconvert_exporter": "python",
   "pygments_lexer": "ipython2",
   "version": "2.7.12"
  }
 },
 "nbformat": 4,
 "nbformat_minor": 1
}
